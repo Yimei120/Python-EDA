{
 "cells": [
  {
   "cell_type": "markdown",
   "metadata": {},
   "source": [
    "# Exploratroy Data Analysis"
   ]
  },
  {
   "cell_type": "code",
   "execution_count": null,
   "metadata": {},
   "outputs": [],
   "source": [
    "import pandas as pd\n",
    "import numpy as np\n",
    "from matplotlib import pyplot as plt"
   ]
  },
  {
   "cell_type": "code",
   "execution_count": null,
   "metadata": {},
   "outputs": [],
   "source": [
    "data = pd.read_csv('D:/EDA/train.csv')"
   ]
  },
  {
   "cell_type": "markdown",
   "metadata": {},
   "source": [
    "First, observe the data."
   ]
  },
  {
   "cell_type": "code",
   "execution_count": null,
   "metadata": {},
   "outputs": [],
   "source": [
    "data.head()"
   ]
  },
  {
   "cell_type": "code",
   "execution_count": null,
   "metadata": {},
   "outputs": [],
   "source": [
    "data.isnull().sum()\n",
    "sum(data.duplicated())\n",
    "data.drop_duplicates()"
   ]
  },
  {
   "cell_type": "markdown",
   "metadata": {},
   "source": [
    "# categorical data and ordinal data can use sns.countplot or data.count_values to conduct; or pd.crosstab(ordinal data)"
   ]
  },
  {
   "cell_type": "code",
   "execution_count": null,
   "metadata": {},
   "outputs": [],
   "source": [
    "sns.countplot(\"Survived\",data = data)"
   ]
  },
  {
   "cell_type": "code",
   "execution_count": null,
   "metadata": {},
   "outputs": [],
   "source": [
    "data.groupby(['Sex','Survived'])['Survived'].count()"
   ]
  },
  {
   "cell_type": "code",
   "execution_count": null,
   "metadata": {},
   "outputs": [],
   "source": [
    "data[['Sex','Survived']].groupby('Sex').mean().plot.bar()"
   ]
  },
  {
   "cell_type": "code",
   "execution_count": null,
   "metadata": {},
   "outputs": [],
   "source": [
    "data['Pclass'].value_counts().plot.bar()"
   ]
  },
  {
   "cell_type": "markdown",
   "metadata": {},
   "source": [
    "'hue' is the legend"
   ]
  },
  {
   "cell_type": "code",
   "execution_count": null,
   "metadata": {},
   "outputs": [],
   "source": [
    "sns.countplot('Pclass',data = data,hue = 'Survived')"
   ]
  },
  {
   "cell_type": "markdown",
   "metadata": {},
   "source": [
    "cross-tab : similar to excel pivot table, many groupbys; if you wanna conduct relations between two values"
   ]
  },
  {
   "cell_type": "code",
   "execution_count": null,
   "metadata": {},
   "outputs": [],
   "source": [
    "pd.crosstab(data.Pclass,data.Survived,margins = True)# \"margins\" is for \"All\""
   ]
  },
  {
   "cell_type": "code",
   "execution_count": null,
   "metadata": {},
   "outputs": [],
   "source": [
    "pd.crosstab(data.Pclass, [data.Sex,data.Survived],margins = True)"
   ]
  },
  {
   "cell_type": "code",
   "execution_count": null,
   "metadata": {},
   "outputs": [],
   "source": [
    "sns.factorplot('Pclass','Survived',data = data,hue = 'Sex')"
   ]
  },
  {
   "cell_type": "markdown",
   "metadata": {},
   "source": [
    "# continous data"
   ]
  },
  {
   "cell_type": "code",
   "execution_count": null,
   "metadata": {},
   "outputs": [],
   "source": [
    "data['Age'].max()"
   ]
  },
  {
   "cell_type": "code",
   "execution_count": null,
   "metadata": {},
   "outputs": [],
   "source": [
    "data['Age'].min()"
   ]
  },
  {
   "cell_type": "code",
   "execution_count": null,
   "metadata": {},
   "outputs": [],
   "source": [
    "data['Age'].mean()"
   ]
  },
  {
   "cell_type": "code",
   "execution_count": null,
   "metadata": {},
   "outputs": [],
   "source": [
    "sns.violinplot('Pclass','Age',hue = 'Survived',data = data,split = True)#x,y 'split' is putting two part together."
   ]
  },
  {
   "cell_type": "code",
   "execution_count": null,
   "metadata": {},
   "outputs": [],
   "source": [
    "sns.violinplot('Sex','Age',hue = 'Survived',data = data,split = True)"
   ]
  },
  {
   "cell_type": "markdown",
   "metadata": {},
   "source": [
    "# Some ways to deal with NaNs"
   ]
  },
  {
   "cell_type": "code",
   "execution_count": null,
   "metadata": {},
   "outputs": [],
   "source": [
    "#since we cannot assign the mean of age to all null values, we can assign mean to people who have Mr./Ms. in their names"
   ]
  },
  {
   "cell_type": "code",
   "execution_count": null,
   "metadata": {},
   "outputs": [],
   "source": [
    "for i in data:\n",
    "    data['initials'] = data.Name.str.extract('([A-Za-z]+)\\.')"
   ]
  },
  {
   "cell_type": "code",
   "execution_count": null,
   "metadata": {},
   "outputs": [],
   "source": [
    "pd.crosstab(data.Sex,data.initials)"
   ]
  },
  {
   "cell_type": "code",
   "execution_count": null,
   "metadata": {},
   "outputs": [],
   "source": [
    "data.groupby('initials')['Age'].mean()# if don't add mean(). there will not be any value showed."
   ]
  },
  {
   "cell_type": "code",
   "execution_count": null,
   "metadata": {},
   "outputs": [],
   "source": [
    "data['initials'].replace(['Mlle','Mme','Ms','Dr','Major','Lady','Countess','Jonkheer','Col','Rev','Capt','Sir','Don'],['Miss','Miss','Miss','Mr','Mr','Mrs','Mrs','Other','Other','Other','Mr','Mr','Mr'], inplace = True)"
   ]
  },
  {
   "cell_type": "code",
   "execution_count": null,
   "metadata": {},
   "outputs": [],
   "source": [
    "data.groupby('initials')['Age'].mean()"
   ]
  },
  {
   "cell_type": "code",
   "execution_count": null,
   "metadata": {},
   "outputs": [],
   "source": [
    "#here, 'Age' is very important, if not added, it means all rows that meet the first critieria will be altered. 1.row,2.column\n",
    "data.loc[(data.Age.isnull())&(data.initials == 'Master'),'Age'] = 5\n",
    "data.loc[(data.Age.isnull())&(data.initials == 'Miss'),'Age'] = 22\n",
    "data.loc[(data.Age.isnull())&(data.initials == 'Mr'),'Age'] = 33\n",
    "data.loc[(data.Age.isnull())&(data.initials == 'Mrs'),'Age'] = 36\n",
    "data.loc[(data.Age.isnull())&(data.initials == 'Other'),'Age'] = 46"
   ]
  },
  {
   "cell_type": "code",
   "execution_count": null,
   "metadata": {},
   "outputs": [],
   "source": [
    "data.Age.isnull().any()"
   ]
  },
  {
   "cell_type": "code",
   "execution_count": null,
   "metadata": {},
   "outputs": [],
   "source": [
    "data[data['Survived'] == 0].Age.plot.hist()\n",
    "data[data['Survived'] == 1].Age.plot.hist()"
   ]
  },
  {
   "cell_type": "code",
   "execution_count": null,
   "metadata": {},
   "outputs": [],
   "source": [
    "f,ax = plt.subplots(1,2)\n",
    "data[data['Survived'] == 0].Age.plot.hist(ax = ax[0])\n",
    "data[data['Survived'] == 1].Age.plot.hist(ax = ax[1])"
   ]
  },
  {
   "cell_type": "code",
   "execution_count": null,
   "metadata": {},
   "outputs": [],
   "source": [
    "sns.factorplot('Pclass','Survived',col = 'initials',data = data)\n",
    "plt.show()"
   ]
  },
  {
   "cell_type": "code",
   "execution_count": null,
   "metadata": {},
   "outputs": [],
   "source": [
    "#ordinal data can use pd.crosstab\n",
    "pd.crosstab([data.Embarked,data.Pclass],[data.Sex,data.Survived],margins = True)"
   ]
  },
  {
   "cell_type": "code",
   "execution_count": null,
   "metadata": {},
   "outputs": [],
   "source": [
    "sns.countplot('Embarked',hue = 'Sex',data = data)"
   ]
  },
  {
   "cell_type": "code",
   "execution_count": null,
   "metadata": {},
   "outputs": [],
   "source": [
    "sns.countplot('Embarked',hue = 'Pclass',data = data)"
   ]
  },
  {
   "cell_type": "code",
   "execution_count": null,
   "metadata": {},
   "outputs": [],
   "source": [
    "sns.countplot('Embarked',hue = 'Survived',data = data)"
   ]
  },
  {
   "cell_type": "code",
   "execution_count": null,
   "metadata": {},
   "outputs": [],
   "source": [
    "sns.factorplot('Pclass','Survived',hue = 'Sex', data =data, col = 'Embarked')"
   ]
  },
  {
   "cell_type": "code",
   "execution_count": null,
   "metadata": {},
   "outputs": [],
   "source": [
    "data.isnull().sum()\n",
    "#Cabin and Embarked have nulls\n",
    "#fill Embarked with \"S\" since most proportion are from s"
   ]
  },
  {
   "cell_type": "code",
   "execution_count": null,
   "metadata": {},
   "outputs": [],
   "source": [
    "data.loc[data.Embarked.isnull(),'Embarked'] = 'S'\n",
    "\n",
    "# data['Embarked'].fillna('S',inplace = True)"
   ]
  },
  {
   "cell_type": "code",
   "execution_count": null,
   "metadata": {},
   "outputs": [],
   "source": [
    "data.isnull().sum()"
   ]
  },
  {
   "cell_type": "code",
   "execution_count": null,
   "metadata": {},
   "outputs": [],
   "source": [
    "pd.crosstab(data.SibSp,data.Survived,margins = True)"
   ]
  },
  {
   "cell_type": "code",
   "execution_count": null,
   "metadata": {},
   "outputs": [],
   "source": [
    "f,ax = plt.subplots(1,2)\n",
    "sns.barplot('SibSp','Survived',data = data,ax = ax[0])\n",
    "ax[0].set_title('SibSp vs Survived')\n",
    "sns.factorplot('SibSp','Survived',data = data,ax = ax[1])\n",
    "ax[1].set_title('SibSp vs Survived')\n"
   ]
  },
  {
   "cell_type": "code",
   "execution_count": null,
   "metadata": {},
   "outputs": [],
   "source": [
    "f,ax = plt.subplots(1,2)\n",
    "sns.barplot('Parch','Survived',data = data, ax = ax[0])\n",
    "ax[0].set_title('Parch V.S Survived')\n",
    "sns.factorplot('Parch','Sex',data = data ,ax = ax[1])\n",
    "ax[1].set_title('Parch V.S. Sex')\n"
   ]
  },
  {
   "cell_type": "code",
   "execution_count": null,
   "metadata": {},
   "outputs": [],
   "source": [
    "data['Fare'].max()"
   ]
  },
  {
   "cell_type": "code",
   "execution_count": null,
   "metadata": {},
   "outputs": [],
   "source": [
    "f,ax = plt.subplots(1,3)\n",
    "sns.distplot(data[data['Pclass'] == 1].Fare,ax = ax[0])\n",
    "ax[0].set_title('Pclass = 1')\n",
    "sns.distplot(data[data['Pclass'] == 2].Fare,ax = ax[1])\n",
    "ax[1].set_title('Pclass = 2')\n",
    "sns.distplot(data[data['Pclass'] == 3].Fare,ax = ax[2])\n",
    "ax[2].set_title('Pclass = 3')"
   ]
  },
  {
   "cell_type": "markdown",
   "metadata": {},
   "source": [
    "heat map"
   ]
  },
  {
   "cell_type": "code",
   "execution_count": null,
   "metadata": {},
   "outputs": [],
   "source": [
    "sns.heatmap(data.corr(),annot = True)#data.corr() ==> correlation matrix\n",
    "# not so corrolated since all the corrolation is not so large"
   ]
  },
  {
   "cell_type": "markdown",
   "metadata": {},
   "source": [
    "#  Feature Engineering"
   ]
  },
  {
   "cell_type": "markdown",
   "metadata": {},
   "source": [
    "binning: convert numerical data into categorical data"
   ]
  },
  {
   "cell_type": "code",
   "execution_count": null,
   "metadata": {},
   "outputs": [],
   "source": [
    "#actually, extract initials from names are already feature engineering"
   ]
  },
  {
   "cell_type": "code",
   "execution_count": null,
   "metadata": {},
   "outputs": [],
   "source": [
    "data['Age_binning'] = 0\n",
    "data.loc[data['Age'] <= 16, 'Age_binning'] = 0\n",
    "data.loc[(data['Age'] > 16)& (data['Age'] <= 32),'Age_binning'] = 1\n",
    "data.loc[(data['Age'] > 32) & (data['Age'] <= 48), 'Age_binning'] = 2\n",
    "data.loc[(data['Age'] > 48) & (data['Age'] <= 64), 'Age_binning'] = 3\n",
    "data.loc[data['Age']> 64 , 'Age_binning'] = 4\n",
    "data.head()"
   ]
  },
  {
   "cell_type": "code",
   "execution_count": null,
   "metadata": {},
   "outputs": [],
   "source": [
    "data['Age_binning'].value_counts()"
   ]
  },
  {
   "cell_type": "code",
   "execution_count": null,
   "metadata": {},
   "outputs": [],
   "source": [
    "sns.factorplot('Age_binning','Survived',data = data, col = 'Pclass')"
   ]
  },
  {
   "cell_type": "code",
   "execution_count": null,
   "metadata": {},
   "outputs": [],
   "source": [
    "data['Family_size'] = 0\n",
    "data['Family_size'] = data['Parch'] + data['SibSp']\n",
    "data.head()"
   ]
  },
  {
   "cell_type": "code",
   "execution_count": null,
   "metadata": {},
   "outputs": [],
   "source": [
    "data['Alone'] = 0\n",
    "data.loc[data['Family_size'] == 0,'Alone'] = 1"
   ]
  },
  {
   "cell_type": "code",
   "execution_count": null,
   "metadata": {},
   "outputs": [],
   "source": [
    "f,ax = plt.subplots(1,2,figsize=(18,6))\n",
    "sns.factorplot('Family_size','Survived',data =data,ax = ax[0])\n",
    "ax[0].set_title('Family Size')\n",
    "sns.factorplot('Alone','Survived',data = data,ax = ax[1])\n",
    "ax[1].set_title('Alone')\n",
    "\n",
    "plt.show()"
   ]
  },
  {
   "cell_type": "code",
   "execution_count": null,
   "metadata": {},
   "outputs": [],
   "source": [
    "sns.factorplot('Alone','Survived',data = data, col = 'Pclass',hue = 'Sex')"
   ]
  },
  {
   "cell_type": "markdown",
   "metadata": {},
   "source": [
    "convert numerical data into category"
   ]
  },
  {
   "cell_type": "code",
   "execution_count": null,
   "metadata": {},
   "outputs": [],
   "source": [
    "data['fare_range'] = pd.qcut(data['Fare'],4)\n",
    "data.groupby(['fare_range'])['Survived'].mean()"
   ]
  },
  {
   "cell_type": "code",
   "execution_count": null,
   "metadata": {},
   "outputs": [],
   "source": [
    "data['Fare_cut'] = 0\n",
    "data.loc[data['Fare'] <= 7.91,'Fare_cut'] = 0\n",
    "data.loc[(data['Fare'] > 7.91) &(data['Fare'] <= 14.454),'Fare_cut'] = 1\n",
    "data.loc[(data['Fare'] > 14.454)& (data['Fare'] <= 31.0),'Fare_cut'] = 2\n",
    "data.loc[data['Fare'] > 31.0, 'Fare_cut'] = 3"
   ]
  },
  {
   "cell_type": "code",
   "execution_count": null,
   "metadata": {
    "scrolled": false
   },
   "outputs": [],
   "source": [
    "sns.factorplot('Fare_cut','Survived',data = data, hue = 'Sex')"
   ]
  },
  {
   "cell_type": "markdown",
   "metadata": {},
   "source": [
    "convert string into numerical(get dummies)"
   ]
  },
  {
   "cell_type": "code",
   "execution_count": null,
   "metadata": {},
   "outputs": [],
   "source": [
    "# Creating one-hot vectors\n",
    "#categories = ['product_travel_expense', 'product_payroll', 'product_accounting',\n",
    "              #'us_region', 'company_size']\n",
    "#dataset = pd.get_dummies(raw_dataset, columns=categories, drop_first=True)\n",
    "\n",
    "categ  = ['Sex','Embarked','initials']\n",
    "data = pd.get_dummies(data,columns = categ, drop_first = True)\n"
   ]
  },
  {
   "cell_type": "code",
   "execution_count": null,
   "metadata": {},
   "outputs": [],
   "source": [
    "data['Sex'].replace(['male','female'],[0,1],inplace = True)\n",
    "# excute once! or it will report error"
   ]
  },
  {
   "cell_type": "code",
   "execution_count": null,
   "metadata": {},
   "outputs": [],
   "source": [
    "data['Embarked'].replace(['S','C','Q'],[0,1,2],inplace = True)\n",
    "data['initials'].replace(['Mr','Mrs','Miss','Master','Other'],[0,1,2,3,4],inplace = True)"
   ]
  },
  {
   "cell_type": "code",
   "execution_count": null,
   "metadata": {},
   "outputs": [],
   "source": [
    "data.drop(['Name','Age','Ticket','Fare','Cabin','fare_range','PassengerId'],axis = 1,inplace = True)"
   ]
  },
  {
   "cell_type": "code",
   "execution_count": null,
   "metadata": {},
   "outputs": [],
   "source": [
    "sns.heatmap(data.corr(),annot = True)"
   ]
  },
  {
   "cell_type": "code",
   "execution_count": null,
   "metadata": {},
   "outputs": [],
   "source": [
    "# remove duplicates\n",
    "\n",
    "#N_dupli = sum(dataset.duplicated(keep='first'))\n",
    "#dataset = dataset.drop_duplicates(keep='first').reset_index(drop=True)\n",
    "#print(\"The raw_dataset contains {} duplicates\".format(N_dupli))\n",
    "\n",
    "data.head()\n"
   ]
  },
  {
   "cell_type": "code",
   "execution_count": null,
   "metadata": {},
   "outputs": [],
   "source": []
  },
  {
   "cell_type": "markdown",
   "metadata": {},
   "source": [
    "# model fitting"
   ]
  },
  {
   "cell_type": "markdown",
   "metadata": {},
   "source": [
    "## This example is more about categorical data, there should be more about OLS, Ridge, LASSO"
   ]
  },
  {
   "cell_type": "code",
   "execution_count": null,
   "metadata": {},
   "outputs": [],
   "source": [
    "from sklearn.linear_model import LogisticRegression\n",
    "from sklearn.ensemble import RandomForestClassifier #Random Forest\n",
    "from sklearn.neighbors import KNeighborsClassifier #KNN\n",
    "from sklearn.naive_bayes import GaussianNB #Naive bayes\n",
    "from sklearn.tree import DecisionTreeClassifier #Decision Tree\n",
    "from sklearn.model_selection import train_test_split\n",
    "from sklearn import metrics #accuracy measure"
   ]
  },
  {
   "cell_type": "code",
   "execution_count": null,
   "metadata": {},
   "outputs": [],
   "source": [
    "train, test = train_test_split(data, test_size = 0.3,random_state = 0,stratify = data['Survived'])\n",
    "train_x = train[train.columns[1:]]\n",
    "train_y = train[train.columns[0]]\n",
    "test_x = test[test.columns[1:]]\n",
    "test_y = test[test.columns[0]]\n",
    "x = data[data.columns[1:]]\n",
    "y = data['Survived']"
   ]
  },
  {
   "cell_type": "markdown",
   "metadata": {},
   "source": [
    "Logistic Regression"
   ]
  },
  {
   "cell_type": "code",
   "execution_count": null,
   "metadata": {},
   "outputs": [],
   "source": [
    "model1 = LogisticRegression()\n",
    "model1.fit(train_x,train_y)\n",
    "pred1 = model1.predict(test_x)\n",
    "acc1 = metrics.accuracy_score(pred1,test_y)\n",
    "acc1"
   ]
  },
  {
   "cell_type": "code",
   "execution_count": null,
   "metadata": {},
   "outputs": [],
   "source": [
    "model2 = DecisionTreeClassifier()\n",
    "model2.fit(train_x,train_y)\n",
    "pred2 = model2.predict(test_x)\n",
    "acc2 = metrics.accuracy_score(pred2,test_y)\n",
    "acc2"
   ]
  },
  {
   "cell_type": "code",
   "execution_count": null,
   "metadata": {},
   "outputs": [],
   "source": [
    "model3 = KNeighborsClassifier()\n",
    "model3.fit(train_x,train_y)\n",
    "pred3 = model3.predict(test_x)\n",
    "acc3 = metrics.accuracy_score(pred3,test_y)\n",
    "acc3"
   ]
  },
  {
   "cell_type": "code",
   "execution_count": null,
   "metadata": {},
   "outputs": [],
   "source": [
    "index = list(range(1,11))\n",
    "a = pd.Series()\n",
    "for i in index:\n",
    "    model = KNeighborsClassifier(n_neighbors = i)\n",
    "    model.fit(train_x,train_y)\n",
    "    pred = model.predict(test_x)\n",
    "    a = a.append(pd.Series(metrics.accuracy_score(pred,test_y)))\n",
    "\n",
    "plt.plot(index,a)"
   ]
  },
  {
   "cell_type": "code",
   "execution_count": null,
   "metadata": {},
   "outputs": [],
   "source": [
    "a.max()"
   ]
  },
  {
   "cell_type": "markdown",
   "metadata": {},
   "source": [
    "# cross validation"
   ]
  },
  {
   "cell_type": "code",
   "execution_count": null,
   "metadata": {},
   "outputs": [],
   "source": [
    "from sklearn.model_selection import KFold #for K-fold cross validation\n",
    "from sklearn.model_selection import cross_val_score #score evaluation\n",
    "from sklearn.model_selection import cross_val_predict #prediction"
   ]
  },
  {
   "cell_type": "code",
   "execution_count": null,
   "metadata": {},
   "outputs": [],
   "source": [
    "fold = KFold(n_splits = 10,shuffle = True,random_state = 22)\n",
    "m = []\n",
    "std = []\n",
    "cv_accuracy = []\n",
    "\n",
    "classifiers = ['Logistic Regression','DecisionTreeClassifier','KNN']\n",
    "\n",
    "models = [LogisticRegression(),DecisionTreeClassifier(),KNeighborsClassifier(n_neighbors = 9)]\n",
    "for model in models:\n",
    "    cv_result = cross_val_score(model,x,y,cv = fold,scoring = 'accuracy')\n",
    "    m.append(cv_result.mean())\n",
    "    std.append(cv_result.std())\n",
    "    cv_accuracy.append(cv_result)\n",
    "modelFrames = pd.DataFrame({'Mean':m,'std':std},index = classifiers)\n",
    "modelFrames "
   ]
  },
  {
   "cell_type": "code",
   "execution_count": null,
   "metadata": {},
   "outputs": [],
   "source": [
    "modelacc = pd.DataFrame(cv_accuracy,index = classifiers)\n",
    "modelacc.T.boxplot()"
   ]
  },
  {
   "cell_type": "markdown",
   "metadata": {},
   "source": [
    "# linear models"
   ]
  },
  {
   "cell_type": "code",
   "execution_count": null,
   "metadata": {},
   "outputs": [],
   "source": [
    "from sklearn import linear_model\n",
    "from sklearn.metrics import mean_squared_error"
   ]
  },
  {
   "cell_type": "code",
   "execution_count": null,
   "metadata": {},
   "outputs": [],
   "source": [
    "data1 = data.copy()\n",
    "data1.drop(['Sex','Alone'],axis = 1, inplace = True)\n",
    "ltrain,ltest = train_test_split(data1, test_size = 0.3,random_state = 42, stratify = data['Survived'])\n",
    "ltrain_x = ltrain[ltrain.columns[1:]]\n",
    "ltrain_y = ltrain[ltrain.columns[0]]\n",
    "ltest_x = ltest[ltest.columns[1:]]\n",
    "ltest_y = ltest[ltest.columns[0]]"
   ]
  },
  {
   "cell_type": "code",
   "execution_count": null,
   "metadata": {},
   "outputs": [],
   "source": [
    "model4 = linear_model.LinearRegression()\n",
    "model4.fit(ltrain_x,ltrain_y)\n",
    "pred4 = model4.predict(ltest_x)\n",
    "mean_squared_error(ltest_y,pred4)\n",
    "model4.coef_"
   ]
  },
  {
   "cell_type": "code",
   "execution_count": null,
   "metadata": {},
   "outputs": [],
   "source": [
    "model5 = linear_model.Ridge()\n",
    "model5.fit(ltrain_x,ltrain_y)\n",
    "pred5 = model5.predict(ltest_x)\n",
    "mean_squared_error(ltest_y,pred5)"
   ]
  },
  {
   "cell_type": "code",
   "execution_count": null,
   "metadata": {},
   "outputs": [],
   "source": [
    "accuracy = []\n",
    "a = range(10^-5,10^10,10)\n",
    "\n",
    "for alpha in a:\n",
    "    model6 = linear_model.Ridge(alpha = alpha)\n",
    "    model6.fit(ltrain_x,ltrain_y)\n",
    "    pred6 = model6.predict(ltest_x)\n",
    "    acc6 = mean_squared_error(ltest_y,pred6)\n",
    "    accuracy.append(acc6)\n",
    "\n",
    "lacc = pd.DataFrame(accuracy, index = a)"
   ]
  },
  {
   "cell_type": "code",
   "execution_count": null,
   "metadata": {},
   "outputs": [],
   "source": [
    "plt.plot(lacc)"
   ]
  },
  {
   "cell_type": "raw",
   "metadata": {},
   "source": [
    "# cv\n",
    "\n",
    ">>> import numpy as np\n",
    ">>> from sklearn import linear_model\n",
    ">>> reg = linear_model.RidgeCV(alphas=np.logspace(-6, 6, 13))\n",
    ">>> reg.fit([[0, 0], [0, 0], [1, 1]], [0, .1, 1])\n",
    "RidgeCV(alphas=array([1.e-06, 1.e-05, 1.e-04, 1.e-03, 1.e-02, 1.e-01, 1.e+00, 1.e+01,\n",
    "      1.e+02, 1.e+03, 1.e+04, 1.e+05, 1.e+06]))\n",
    ">>> reg.alpha_\n",
    "0.01"
   ]
  },
  {
   "cell_type": "code",
   "execution_count": null,
   "metadata": {},
   "outputs": [],
   "source": [
    "model7 = linear_model.lasso()"
   ]
  }
 ],
 "metadata": {
  "kernelspec": {
   "display_name": "Python 3",
   "language": "python",
   "name": "python3"
  },
  "language_info": {
   "codemirror_mode": {
    "name": "ipython",
    "version": 3
   },
   "file_extension": ".py",
   "mimetype": "text/x-python",
   "name": "python",
   "nbconvert_exporter": "python",
   "pygments_lexer": "ipython3",
   "version": "3.7.4"
  }
 },
 "nbformat": 4,
 "nbformat_minor": 4
}
